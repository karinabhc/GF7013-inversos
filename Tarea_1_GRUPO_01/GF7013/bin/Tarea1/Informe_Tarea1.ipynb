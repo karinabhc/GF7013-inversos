{
 "cells": [
  {
   "cell_type": "markdown",
   "id": "2849b96a",
   "metadata": {},
   "source": [
    "# Informe Tarea 1\n",
    "## Nombre Alumnas/os:\n",
    "\n",
    "En este notebook puede colocar los gráficos que genere, y las respuestas a las preguntas donde se pide colocar ecuaciones. (Alternativamente puede entregar un pdf generado en Latex,Word, etc, copiado en esta misma carpera)."
   ]
  },
  {
   "cell_type": "code",
   "execution_count": null,
   "id": "398d7ed0",
   "metadata": {},
   "outputs": [],
   "source": []
  }
 ],
 "metadata": {
  "kernelspec": {
   "display_name": "Python 3 (ipykernel)",
   "language": "python",
   "name": "python3"
  },
  "language_info": {
   "codemirror_mode": {
    "name": "ipython",
    "version": 3
   },
   "file_extension": ".py",
   "mimetype": "text/x-python",
   "name": "python",
   "nbconvert_exporter": "python",
   "pygments_lexer": "ipython3",
   "version": "3.10.10"
  }
 },
 "nbformat": 4,
 "nbformat_minor": 5
}
