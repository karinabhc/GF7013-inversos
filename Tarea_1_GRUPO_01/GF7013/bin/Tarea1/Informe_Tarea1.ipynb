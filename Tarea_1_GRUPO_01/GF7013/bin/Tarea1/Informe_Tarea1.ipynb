{
 "cells": [
  {
   "cell_type": "markdown",
   "id": "2849b96a",
   "metadata": {},
   "source": [
    "# Informe Tarea 1\n",
    "## Nombre Alumnas/os:\n",
    "\n",
    "En este notebook puede colocar los gráficos que genere, y las respuestas a las preguntas donde se pide colocar ecuaciones. (Alternativamente puede entregar un pdf generado en Latex,Word, etc, copiado en esta misma carpera)."
   ]
  },
  {
   "cell_type": "markdown",
   "id": "0befe374",
   "metadata": {},
   "source": [
    "> Informe generado en Latex para poder trabajar en forma colaborativa en tiempo real. Para el informe refiérase al pdf con el mismo nombre de este archivo (Informe_Tarea1.pdf)"
   ]
  }
 ],
 "metadata": {
  "kernelspec": {
   "display_name": "geof-py",
   "language": "python",
   "name": "python3"
  },
  "language_info": {
   "codemirror_mode": {
    "name": "ipython",
    "version": 3
   },
   "file_extension": ".py",
   "mimetype": "text/x-python",
   "name": "python",
   "nbconvert_exporter": "python",
   "pygments_lexer": "ipython3",
   "version": "3.12.9"
  }
 },
 "nbformat": 4,
 "nbformat_minor": 5
}
